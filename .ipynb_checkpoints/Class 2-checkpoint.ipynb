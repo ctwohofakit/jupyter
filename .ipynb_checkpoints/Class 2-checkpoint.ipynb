{
 "cells": [
  {
   "cell_type": "markdown",
   "id": "fd2309ff-b0cc-41c9-ad0a-094fe34ddcd9",
   "metadata": {},
   "source": [
    "# Stacks and Queues\n",
    "\n",
    "1. Stack: A Stack is on aordered collection where items are added and removed from the _top_.\n",
    "2. Queue: A queue is an ordered collection where items are added at the back and removed from the front."
   ]
  },
  {
   "cell_type": "code",
   "execution_count": 2,
   "id": "209a81f2-f2dc-4855-9b7c-ee5a91e24fac",
   "metadata": {},
   "outputs": [],
   "source": [
    "#simplified implementation of Stack (relying on built-ins)\n",
    "\n",
    "class Stack:\n",
    "    def __init__(self):\n",
    "        self.items=[]\n",
    "\n",
    "    def push(self, value):\n",
    "        self.items.append(value)\n",
    "\n",
    "    def pop(self):\n",
    "        return self.items.pop()\n",
    "\n",
    "    #nice to have mehtods\n",
    "    def peek(self):\n",
    "        return self.items[len(self.items)-1]\n",
    "\n",
    "    def size(self):\n",
    "        return len(self.items)\n",
    "\n",
    "    def is_empty(self):\n",
    "        return self.items==[]"
   ]
  },
  {
   "cell_type": "code",
   "execution_count": 4,
   "id": "b6397a94-eaf9-4d72-b0fa-706d687f9a81",
   "metadata": {},
   "outputs": [],
   "source": [
    "# From scratch implementation of Stack\n",
    "\n",
    "class StackII:\n",
    "    class __Node:\n",
    "        def __init__(self,datum):\n",
    "            self.below=None\n",
    "            self.datum=datum\n",
    "    def __init__(self):\n",
    "        self.top=None\n",
    "\n",
    "    def push(self, datum):\n",
    "        #No matter what happens, we;ll be adding a new wlwmwnt to our stack, so:\n",
    "        new_node=self.__Node(datum)\n",
    "        #Determine the state of the stack first:\n",
    "        if not self.top:\n",
    "            self.top=new_node\n",
    "        else:\n",
    "            new_node.below=self.top\n",
    "            self.top= new_node\n",
    "\n",
    "    def pop(self):\n",
    "        # Check the state of the stack first:\n",
    "        if self.top:\n",
    "            datum=self.top.datum\n",
    "            self.top=self.top.below\n",
    "            return datum\n",
    "        raise IndexError(\"Stack is empty\")\n",
    "\n",
    "    # Nice to have methods\n",
    "    def peek(self):\n",
    "    #this can be solved in O(1)\n",
    "    # Note:THis allow us to return the topmost \"datum\" without removing the node.\n",
    "        \n",
    "        pass\n",
    "\n",
    "    def size(self):\n",
    "    #This can be sloved in O(n) without changes to the rest of the StackII class\n",
    "    #note: This allows us toreturn the number of \"Nodes\" inour StackII\n",
    "    #Extra challenge: make changes tp StackII (and other moehtods) such that this too runs in O(1).\n",
    "        pass\n",
    "\n",
    "    def is_empty(self):\n",
    "    #This can be solved in O(1)\n",
    "    #Note: THis allows us to determin whether StackII is empty, returns True when it is Falsse otherwise.\n",
    "        pass\n",
    "    "
   ]
  },
  {
   "cell_type": "markdown",
   "id": "9551e799-dfec-4da9-9b93-bbb6c1eb67d2",
   "metadata": {},
   "source": [
    "#Problem1\n",
    "Given a string,return it in inverse order.\n",
    "\n",
    "## Criteria\n",
    "    Your function \"invert_str\" must use one of the Stack classes above(bonus points if it receieves it as a parameter) and leverage the Stack to invert the string.\n",
    "    \n",
    "```\n",
    "    Examples:\n",
    "rafael->leafar\n",
    "rats->star\n",
    "hello->ooleh\n",
    "```"
   ]
  },
  {
   "cell_type": "code",
   "execution_count": 8,
   "id": "4b756489-ba74-495e-b704-0547e547de03",
   "metadata": {},
   "outputs": [
    {
     "ename": "IndentationError",
     "evalue": "expected an indented block after 'while' statement on line 11 (2402511480.py, line 12)",
     "output_type": "error",
     "traceback": [
      "  \u001b[36mCell\u001b[39m\u001b[36m \u001b[39m\u001b[32mIn[8]\u001b[39m\u001b[32m, line 12\u001b[39m\n\u001b[31m    \u001b[39m\u001b[31mreverse_str+=self.pop()\u001b[39m\n    ^\n\u001b[31mIndentationError\u001b[39m\u001b[31m:\u001b[39m expected an indented block after 'while' statement on line 11\n"
     ]
    }
   ],
   "source": [
    "def invert_str():\n",
    "    class Stack:\n",
    "        def __init__(self):\n",
    "            self.items=[]\n",
    "\n",
    "        def push(self,words):\n",
    "            self.items.append(words)\n",
    "\n",
    "        reversed_str=\"\"\n",
    "        def pop(self):\n",
    "            while not self.is_empty():\n",
    "                reverse_str+=self.pop()\n",
    "            return reverse_str\n",
    "        "
   ]
  },
  {
   "cell_type": "code",
   "execution_count": null,
   "id": "944d8ff1-a3c8-44a8-8dc7-95a4b9e3a614",
   "metadata": {},
   "outputs": [],
   "source": []
  }
 ],
 "metadata": {
  "kernelspec": {
   "display_name": "Python 3 (ipykernel)",
   "language": "python",
   "name": "python3"
  },
  "language_info": {
   "codemirror_mode": {
    "name": "ipython",
    "version": 3
   },
   "file_extension": ".py",
   "mimetype": "text/x-python",
   "name": "python",
   "nbconvert_exporter": "python",
   "pygments_lexer": "ipython3",
   "version": "3.12.3"
  }
 },
 "nbformat": 4,
 "nbformat_minor": 5
}
