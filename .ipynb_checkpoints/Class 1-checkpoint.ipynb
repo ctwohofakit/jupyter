{
 "cells": [
  {
   "cell_type": "markdown",
   "id": "dad4ca1f-194c-4d76-a405-2a8c2bb53b99",
   "metadata": {},
   "source": [
    "# Problem 1\n",
    "\n",
    "## Give two strings, determine if these are anagrams of each other, considering the following criteria\n",
    "\n",
    "### Criteria\n",
    "Two strings are anagrams of each other if all the criteria below are met:\n",
    "1. they must use the same letters the same amount oftimes.\n",
    "2. 2.They must be of equal legnth in hterms of letters\n",
    "\n",
    "```\n",
    "Examples:\n",
    "heart and earth\n",
    "cars and scar\n",
    "rats and star\n",
    "``` "
   ]
  },
  {
   "cell_type": "code",
   "execution_count": 4,
   "id": "aad5f7fb-32a6-4b6e-9484-f4bef300c523",
   "metadata": {},
   "outputs": [],
   "source": [
    "# Design our solution (assembly)\n",
    "\n",
    "# Define function \"anagram_check\" with parameters strl and str2:\n",
    "#  strl = strl without spaces in lower case\n",
    "#  str2 = str2 without spaces in lower case\n",
    "#  if strl is not of equal length to str2:\n",
    "#     return False\n",
    "#  dictl = new dictionary\n",
    "#  dict2 = new dictionary\n",
    "#  for each \"number\" in the range from 0 to the length of strl:\n",
    "#   if the character at position \"number\" in strl is not in dictl:\n",
    "#     add that character as a key to dictl and set it's value to 1\n",
    "#   otherwise:\n",
    "#     add a 1 to the value associated with that character\n",
    "#   if the character at position \"number\" in str2 is not in dict2:\n",
    "#     add that character as a key to dict2 and set it's value to 1\n",
    "#   otherwise:\n",
    "#     add a 1 to the value associated with that character\n",
    "#   if dictl is equal to dict2:\n",
    "#     return True\n",
    "#   otherwise:\n",
    "#     return False\n"
   ]
  },
  {
   "cell_type": "code",
   "execution_count": 17,
   "id": "1f719a69-4c06-4be6-8494-7ce4eb66828b",
   "metadata": {},
   "outputs": [
    {
     "name": "stdout",
     "output_type": "stream",
     "text": [
      "True\n",
      "True\n",
      "True\n",
      "False\n",
      "False\n"
     ]
    }
   ],
   "source": [
    "def anagram_check(str1, str2):\n",
    "    str1=str1.replace(\" \", \"\").lower()\n",
    "    str2=str2.replace(\" \", \"\").lower()\n",
    "\n",
    "    if len(str1) != len(str2):\n",
    "        return False\n",
    "\n",
    "    dict1 = {}\n",
    "    dict2 = {}\n",
    "\n",
    "    for position in range(len(str1)):\n",
    "        char1=str1[position]\n",
    "        if char1 in dict1: \n",
    "            dict1[char1]+=1\n",
    "        else:\n",
    "            dict1[char1]=1\n",
    "\n",
    "        char2=str2[position]\n",
    "        if char2 in dict2:\n",
    "            dict2[char2]+=1\n",
    "        else:\n",
    "            dict2[char2]=1\n",
    "    \n",
    "    return dict1==dict2\n",
    "\n",
    "print(anagram_check(\"heart\",\"earth\"))\n",
    "print(anagram_check(\"cars\",\"scar\"))\n",
    "print(anagram_check(\"rats\",\"star\"))\n",
    "print(anagram_check(\"fiver\",\"star\"))\n",
    "print(anagram_check(\"heart\",\"saint\"))"
   ]
  },
  {
   "cell_type": "code",
   "execution_count": null,
   "id": "554823d1-a72a-4640-a007-7da40f40a375",
   "metadata": {},
   "outputs": [],
   "source": []
  }
 ],
 "metadata": {
  "kernelspec": {
   "display_name": "Python 3 (ipykernel)",
   "language": "python",
   "name": "python3"
  },
  "language_info": {
   "codemirror_mode": {
    "name": "ipython",
    "version": 3
   },
   "file_extension": ".py",
   "mimetype": "text/x-python",
   "name": "python",
   "nbconvert_exporter": "python",
   "pygments_lexer": "ipython3",
   "version": "3.12.3"
  }
 },
 "nbformat": 4,
 "nbformat_minor": 5
}
